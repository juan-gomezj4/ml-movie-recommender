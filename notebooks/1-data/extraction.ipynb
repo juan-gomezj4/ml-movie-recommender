{
 "cells": [
  {
   "cell_type": "markdown",
   "metadata": {},
   "source": [
    "## Title\n",
    "Data Raw Extraction \n",
    "\n",
    "### By:\n",
    "Santiago Puerta - Juan Gómez\n",
    "\n",
    "### Date:\n",
    "2024-05-07\n",
    "\n",
    "### Description:\n",
    "\n",
    "This notebook collects movie data from the TMDb API. It downloads raw data such as titles, genres, and release dates. The goal is to build a clean and updated dataset for future recommendations."
   ]
  },
  {
   "cell_type": "markdown",
   "metadata": {},
   "source": [
    "# Questions"
   ]
  },
  {
   "cell_type": "markdown",
   "metadata": {},
   "source": [
    "1- ¿Cual es el objetivo del problema?\n",
    "- Desarrollar un sistema de recomendación basado en contenido que sugiera películas similares a una que el usuario está viendo o considerando ver, con el fin de mejorar la experiencia de exploración en una plataforma tipo catálogo.\n",
    "\n",
    "2- ¿Cómo se usará su solución?\n",
    "- La solución se usará de forma dinámica durante la navegación del usuario. Cuando un usuario selecciona una película o entra a su ficha, el sistema recomienda títulos similares automáticamente, ayudando a descubrir contenido relevante en ese momento.\n",
    " \n",
    "3- ¿Cuáles son las soluciones actuales (si las hay)?\n",
    "- Soluciones similares existen en plataformas como Netflix, Prime Video o Disney+, que recomiendan películas relacionadas basadas en contenido (sinopsis, género, actores, etc.) y/o comportamiento de usuarios. El sistema propuesto simula este enfoque, pero con una fuente abierta (TMDb) y control sobre la incorporación de títulos.\n",
    " \n",
    "4- ¿Cómo se debe enmarcar este problema (supervisado / no supervisado, en línea / fuera de línea, etc.)\n",
    "- No supervisado, fuera de línea con actualizaciones periódicas.\n",
    "\n",
    "5- ¿Cómo se debe medir el desempeño o el rendimiento de la solución, una primera intuicion?\n",
    "- Por la relevancia de las recomendaciones, por ejemplo, usando métricas como precisión, recall, o calidad de similitud percibida.\n",
    "\n",
    "6- ¿La medida de desempeño está alineada con el objetivo del problema?\n",
    "- Sí, evaluar qué tan relevantes son las películas recomendadas se alinea con el objetivo de sugerir contenido similar.\n",
    "\n",
    "7- ¿Cuál sería el desempeño o rendimiento mínimo necesario para alcanzar el objetivo del problema?\n",
    "- Recomendaciones coherentes con los géneros, sinopsis y palabras clave de la película base, promoviendo además títulos no populares.\n",
    "\n",
    "8- ¿Cuáles son los problemas parecidos? ¿Se puede reutilizar experiencias o herramientas ya creadas?\n",
    "- Problemas similares: sistemas de recomendación de libros o música. Se pueden reutilizar herramientas como TF-IDF, similitud coseno y técnicas de filtrado basado en contenido.\n",
    "\n",
    "9- ¿Hay experiencia del problema disponible?\n",
    "- Sí, es un problema ampliamente tratado en sistemas de recomendación. Existen buenas prácticas y bibliotecas aplicables.\n",
    "\n",
    "10- (Importante) ¿Cómo se puede resolver el problema manualmente?\n",
    "- Un analista podría buscar películas similares por género, sinopsis y palabras clave de forma manual en la base de datos.\n",
    "\n",
    "11- Hacer un listado de los supuestos que hay hasta este momento.\n",
    "- La API de TMDb es confiable y actualizada.\n",
    "- La similitud semántica entre películas se puede capturar con TF-IDF.\n",
    "- Las películas populares ya tienen suficiente exposición.\n",
    "- Las películas nuevas se deben incorporar periódicamente.\n",
    "- El sistema puede operar sin retroalimentación explícita del usuario.\n",
    "\n",
    "12- Cual es la fuente de los datos?\n",
    "- API pública de TMDb (https://developer.themoviedb.org/reference/intro/getting-started). \n",
    "\n",
    "13- Como se actualizan los datos?\n",
    "- Mediante ingestas periódicas usando peticiones a endpoints como /discover/movie, filtrando títulos no existentes en el sistema.\n",
    "\n",
    "14- Cada cuanto tiempo se actualizan los datos\n",
    "- No se especifica una frecuencia exacta, pero se menciona que es una ingesta incremental periódica."
   ]
  },
  {
   "cell_type": "markdown",
   "metadata": {},
   "source": [
    "# Data download"
   ]
  },
  {
   "cell_type": "markdown",
   "metadata": {
    "id": "qebHeCuIv-N5"
   },
   "source": [
    "## 1. Imports and configuration\n"
   ]
  },
  {
   "cell_type": "code",
   "execution_count": 1,
   "metadata": {},
   "outputs": [],
   "source": [
    "from pathlib import Path\n",
    "\n",
    "DATA_DIR = Path.cwd().resolve().parents[1]"
   ]
  },
  {
   "cell_type": "code",
   "execution_count": 2,
   "metadata": {},
   "outputs": [],
   "source": [
    "import time\n",
    "from datetime import datetime"
   ]
  },
  {
   "cell_type": "code",
   "execution_count": 3,
   "metadata": {},
   "outputs": [],
   "source": [
    "import pandas as pd\n",
    "import requests\n",
    "from dotenv import load_dotenv\n",
    "from loguru import logger\n",
    "from omegaconf import OmegaConf"
   ]
  },
  {
   "cell_type": "code",
   "execution_count": 4,
   "metadata": {},
   "outputs": [
    {
     "data": {
      "text/plain": [
       "True"
      ]
     },
     "execution_count": 4,
     "metadata": {},
     "output_type": "execute_result"
    }
   ],
   "source": [
    "load_dotenv()"
   ]
  },
  {
   "cell_type": "code",
   "execution_count": 5,
   "metadata": {},
   "outputs": [],
   "source": [
    "pd.set_option(\"display.max_columns\", None)"
   ]
  },
  {
   "cell_type": "code",
   "execution_count": 6,
   "metadata": {},
   "outputs": [],
   "source": [
    "extraction_config = OmegaConf.load(DATA_DIR / \"conf/data_extraction/extraction.yml\")\n",
    "headers = extraction_config.api.headers\n",
    "timeout = extraction_config.api.timeout\n",
    "HTTP_OK = extraction_config.api.http_ok"
   ]
  },
  {
   "cell_type": "markdown",
   "metadata": {
    "id": "TDMuIUnRwPVr"
   },
   "source": [
    "## 2. Get movies from a paginated endpoint"
   ]
  },
  {
   "cell_type": "code",
   "execution_count": 7,
   "metadata": {
    "id": "gVZVxE9jv8Ji"
   },
   "outputs": [],
   "source": [
    "def get_movies(endpoint: str, pages: int, label: str | None = None) -> list:\n",
    "    \"\"\"\n",
    "    Get movies from a paginated TMDb endpoint.\n",
    "\n",
    "    Args:\n",
    "        endpoint: API path (e.g., \"/movie/popular\")\n",
    "        pages: number of pages to read\n",
    "        label: optional label to tag the source\n",
    "\n",
    "    Returns:\n",
    "        List of movies\n",
    "    \"\"\"\n",
    "    logger.info(f\"Fetching movies from {endpoint}...\")\n",
    "\n",
    "    movies = []\n",
    "    for page in range(1, pages + 1):\n",
    "        url = f\"https://api.themoviedb.org/3{endpoint}?language=es-ES&page={page}\"\n",
    "        response = requests.get(url, headers=headers, timeout=timeout)\n",
    "        if response.status_code == HTTP_OK:\n",
    "            results = response.json().get(\"results\", [])\n",
    "            for movie in results:\n",
    "                if label:\n",
    "                    movie[\"source\"] = label\n",
    "            movies.extend(results)\n",
    "        time.sleep(0.2)\n",
    "\n",
    "    logger.info(f\"Fetched {len(movies)} movies from {endpoint}.\")\n",
    "    return movies"
   ]
  },
  {
   "cell_type": "markdown",
   "metadata": {
    "id": "o1gZqMNWwePa"
   },
   "source": [
    "## 3. Build base dataset with recent movies"
   ]
  },
  {
   "cell_type": "code",
   "execution_count": 8,
   "metadata": {
    "id": "OKYxa1z3v8Gr"
   },
   "outputs": [],
   "source": [
    "# def build_dataset_base(pages: int = 400, days_range: int = 120) -> pd.DataFrame:\n",
    "#     \"\"\"\n",
    "#     Build a base dataset with recent and valid movies.\n",
    "#     Assign a system entry date to each movie.\n",
    "\n",
    "#     Args:\n",
    "#         pages: number of pages to read\n",
    "#         days_range: number of days to spread entry dates\n",
    "\n",
    "#     Returns:\n",
    "#         DataFrame with movies and entry date\n",
    "#     \"\"\"\n",
    "#     logger.info(f\"Building dataset with {pages} pages and {days_range} days range...\")\n",
    "\n",
    "#     movies = []\n",
    "#     for page in range(1, pages + 1):\n",
    "#         url = (\n",
    "#             f\"https://api.themoviedb.org/3/discover/movie\"\n",
    "#             f\"?sort_by=release_date.desc&vote_count.gte=10&page={page}\"\n",
    "#         )\n",
    "#         response = requests.get(url, headers=headers, timeout=timeout)\n",
    "#         if response.status_code == HTTP_OK:\n",
    "#             data = response.json().get(\"results\", [])\n",
    "#             for movie in data:\n",
    "#                 movie[\"source\"] = \"exploratory\"\n",
    "#             movies.extend(data)\n",
    "#         else:\n",
    "#             print(f\"Error on page {page}: {response.status_code}\")\n",
    "\n",
    "#     df = pd.DataFrame(movies).drop_duplicates(subset=\"id\").reset_index(drop=True)\n",
    "\n",
    "#     # Assign a system entry date (spread across last N days)\n",
    "#     entry_dates = [\n",
    "#         pd.Timestamp.today().normalize() - timedelta(days=int(x))\n",
    "#         for x in np.random.randint(0, days_range, size=len(df))\n",
    "#     ]\n",
    "#     df[\"entry_date\"] = entry_dates\n",
    "#     df[\"was_ingested\"] = False\n",
    "\n",
    "#     logger.info(f\"Dataset built with {len(df)} movies.\")\n",
    "#     return df"
   ]
  },
  {
   "cell_type": "markdown",
   "metadata": {
    "id": "6y36niNUw1aK"
   },
   "source": [
    "## 4. Get popular movie IDs from TMDb"
   ]
  },
  {
   "cell_type": "code",
   "execution_count": 9,
   "metadata": {
    "id": "O6LpgD2Av8D1"
   },
   "outputs": [],
   "source": [
    "def get_popular_ids(pages: int = 10) -> set:\n",
    "    \"\"\"\n",
    "    Get IDs of currently popular movies.\n",
    "\n",
    "    Args:\n",
    "        pages: number of pages to fetch from popular list\n",
    "\n",
    "    Returns:\n",
    "        Set of movie IDs\n",
    "    \"\"\"\n",
    "    logger.info(\"Fetching popular movie IDs...\")\n",
    "\n",
    "    popular_movies = get_movies(\"/movie/popular\", pages)\n",
    "\n",
    "    logger.info(f\"Fetched {len(popular_movies)} popular movies.\")\n",
    "    return set(movie[\"id\"] for movie in popular_movies)"
   ]
  },
  {
   "cell_type": "markdown",
   "metadata": {
    "id": "BaeVK7pN2_P2"
   },
   "source": [
    "## 5. Create the movie dataset"
   ]
  },
  {
   "cell_type": "code",
   "execution_count": 10,
   "metadata": {
    "id": "G1P0YuaJv8Bd"
   },
   "outputs": [],
   "source": [
    "# df_movies = build_dataset_base()"
   ]
  },
  {
   "cell_type": "markdown",
   "metadata": {
    "id": "_zyMmff83C9A"
   },
   "source": [
    "## 6. Get popular IDs and flag each movie"
   ]
  },
  {
   "cell_type": "code",
   "execution_count": 11,
   "metadata": {
    "id": "Oq-IR6EDv7_H"
   },
   "outputs": [],
   "source": [
    "# popular_ids = get_popular_ids()\n",
    "# df_movies[\"is_popular\"] = df_movies[\"id\"].isin(popular_ids)"
   ]
  },
  {
   "cell_type": "markdown",
   "metadata": {
    "id": "sCFwMwRy3INm"
   },
   "source": [
    "## 7. Enrich with movie details"
   ]
  },
  {
   "cell_type": "code",
   "execution_count": null,
   "metadata": {
    "id": "pMKbzRjCv78h"
   },
   "outputs": [],
   "source": [
    "def enrich_movie_details(movie_id: int) -> dict:\n",
    "    \"\"\"\n",
    "    Get detailed info for one movie using /movie/{id}.\n",
    "\n",
    "    Returns a dictionary with selected fields.\n",
    "    \"\"\"\n",
    "    logger.info(f\"Enriching details for movie ID {movie_id}...\")\n",
    "\n",
    "    url = f\"https://api.themoviedb.org/3/movie/{movie_id}?language=es-ES\"\n",
    "    response = requests.get(url, headers=headers, timeout=timeout)\n",
    "\n",
    "    if response.status_code == HTTP_OK:\n",
    "        data = response.json()\n",
    "        return {\n",
    "            \"id\": movie_id,\n",
    "            \"runtime\": data.get(\"runtime\"),\n",
    "            \"budget\": data.get(\"budget\"),\n",
    "            \"revenue\": data.get(\"revenue\"),\n",
    "            \"status\": data.get(\"status\"),\n",
    "            \"original_language\": data.get(\"original_language\"),\n",
    "            \"tagline\": data.get(\"tagline\"),\n",
    "            \"genres\": [g[\"name\"] for g in data.get(\"genres\", [])],\n",
    "            \"spoken_languages\": [\n",
    "                lang[\"name\"] for lang in data.get(\"spoken_languages\", [])\n",
    "            ],\n",
    "        }\n",
    "    else:\n",
    "        logger.error(f\"Error getting details for ID {movie_id}\")\n",
    "        return {\n",
    "            \"id\": movie_id,\n",
    "            \"runtime\": None,\n",
    "            \"budget\": None,\n",
    "            \"revenue\": None,\n",
    "            \"status\": None,\n",
    "            \"original_language\": None,\n",
    "            \"tagline\": None,\n",
    "            \"genres\": [],\n",
    "            \"spoken_languages\": [],\n",
    "        }"
   ]
  },
  {
   "cell_type": "markdown",
   "metadata": {
    "id": "49oGcNUc3L5o"
   },
   "source": [
    "## 8. Apply detail enrichment to all movies"
   ]
  },
  {
   "cell_type": "code",
   "execution_count": 13,
   "metadata": {
    "id": "_GXSeSdyv75r"
   },
   "outputs": [],
   "source": [
    "# enriched_data = [enrich_movie_details(mid) for mid in df_movies[\"id\"]]\n",
    "# df_enriched = pd.DataFrame(enriched_data)\n",
    "# df = df.drop(columns=[\"original_language\"], errors=\"ignore\")\n",
    "# df = df.merge(df_enriched, on=\"id\", how=\"left\")"
   ]
  },
  {
   "cell_type": "markdown",
   "metadata": {
    "id": "lHIYBHwL3TSl"
   },
   "source": [
    "## 9. Enrich with keywords for each movie"
   ]
  },
  {
   "cell_type": "code",
   "execution_count": 14,
   "metadata": {
    "id": "oMEkwBnhv72-"
   },
   "outputs": [],
   "source": [
    "def get_keywords(movie_id: int) -> list:\n",
    "    \"\"\"\n",
    "    Get keyword list from /movie/{id}/keywords.\n",
    "    \"\"\"\n",
    "    logger.info(f\"Getting keywords for movie ID {movie_id}...\")\n",
    "\n",
    "    url = f\"https://api.themoviedb.org/3/movie/{movie_id}/keywords\"\n",
    "    response = requests.get(url, headers=headers, timeout=timeout)\n",
    "\n",
    "    if response.status_code == HTTP_OK:\n",
    "        data = response.json()\n",
    "        return [kw[\"name\"] for kw in data.get(\"keywords\", [])]\n",
    "    else:\n",
    "        logger.error(f\"Error getting keywords for ID {movie_id}\")\n",
    "        return []"
   ]
  },
  {
   "cell_type": "markdown",
   "metadata": {
    "id": "leBgmyxr3VzM"
   },
   "source": [
    "## 10. Apply keyword enrichment"
   ]
  },
  {
   "cell_type": "code",
   "execution_count": 15,
   "metadata": {
    "colab": {
     "base_uri": "https://localhost:8080/",
     "height": 329
    },
    "id": "e5vOPoc7v70d",
    "outputId": "ab818eb2-7b8f-4e0b-8c4a-a522cfe5be3d"
   },
   "outputs": [],
   "source": [
    "# df_movies[\"keywords\"] = df_movies[\"id\"].apply(get_keywords)"
   ]
  },
  {
   "cell_type": "code",
   "execution_count": 16,
   "metadata": {},
   "outputs": [],
   "source": [
    "# df_movies.to_parquet(DATA_DIR / \"data/01_raw/movies_dataset.parquet\", index=False)"
   ]
  },
  {
   "cell_type": "markdown",
   "metadata": {
    "id": "s0pI4-_u7LGM"
   },
   "source": [
    "# Periodic incremental ingestion"
   ]
  },
  {
   "cell_type": "code",
   "execution_count": 17,
   "metadata": {},
   "outputs": [],
   "source": [
    "df_movies = pd.read_parquet(DATA_DIR / \"data/01_raw/movies_dataset_2025-05-11.parquet\")"
   ]
  },
  {
   "cell_type": "markdown",
   "metadata": {
    "id": "AOVQUMp27Spg"
   },
   "source": [
    "## 11. Fetch and enrich new movies (dynamic ingestion)"
   ]
  },
  {
   "cell_type": "code",
   "execution_count": 18,
   "metadata": {
    "id": "T6cGDu5I7OPU"
   },
   "outputs": [],
   "source": [
    "def fetch_new_movies(pages: int = 50, existing_ids: set | None = None) -> pd.DataFrame:\n",
    "    \"\"\"\n",
    "    Get new movies not present in the current dataset.\n",
    "    Assign today's date as entry_date.\n",
    "    \"\"\"\n",
    "    logger.info(\"Fetching new movies...\")\n",
    "\n",
    "    movies = []\n",
    "    for page in range(1, pages + 1):\n",
    "        url = (\n",
    "            f\"https://api.themoviedb.org/3/discover/movie\"\n",
    "            f\"?sort_by=release_date.desc&vote_count.gte=10&page={page}\"\n",
    "        )\n",
    "        r = requests.get(url, headers=headers, timeout=timeout)\n",
    "        if r.status_code == HTTP_OK:\n",
    "            for movie in r.json().get(\"results\", []):\n",
    "                if existing_ids is None or movie[\"id\"] not in existing_ids:\n",
    "                    movie[\"source\"] = \"exploratory\"\n",
    "                    movie[\"entry_date\"] = pd.Timestamp.today().normalize()\n",
    "                    movies.append(movie)\n",
    "        time.sleep(0.2)\n",
    "\n",
    "    logger.info(f\"Fetched {len(movies)} new movies.\")\n",
    "\n",
    "    df = pd.DataFrame(movies).drop_duplicates(subset=\"id\").reset_index(drop=True)\n",
    "    df[\"was_ingested\"] = True\n",
    "\n",
    "    return df"
   ]
  },
  {
   "cell_type": "markdown",
   "metadata": {
    "id": "MpclrQkN7XIX"
   },
   "source": [
    "## 12. Enrich new movies with details and keywords"
   ]
  },
  {
   "cell_type": "code",
   "execution_count": 19,
   "metadata": {
    "id": "MRP7-JoI7VcV"
   },
   "outputs": [],
   "source": [
    "def enrich_movies(df: pd.DataFrame) -> pd.DataFrame:\n",
    "    \"\"\"\n",
    "    Add details and keywords to new movies.\n",
    "    \"\"\"\n",
    "    logger.info(\"Enriching movies...\")\n",
    "\n",
    "    details = [enrich_movie_details(mid) for mid in df[\"id\"]]\n",
    "    df = df.drop(columns=[\"original_language\"], errors=\"ignore\")\n",
    "    df = df.merge(pd.DataFrame(details), on=\"id\", how=\"left\")\n",
    "    df[\"keywords\"] = df[\"id\"].apply(get_keywords)\n",
    "\n",
    "    logger.info(f\"Enriched {len(df)} movies.\")\n",
    "    return df"
   ]
  },
  {
   "cell_type": "markdown",
   "metadata": {
    "id": "m3rZn0Xb7g3I"
   },
   "source": [
    "## 13. Simulate one ingestion run"
   ]
  },
  {
   "cell_type": "code",
   "execution_count": 20,
   "metadata": {
    "id": "Dm8pSGM77ZQQ"
   },
   "outputs": [],
   "source": [
    "existing_ids = set(df_movies[\"id\"])"
   ]
  },
  {
   "cell_type": "code",
   "execution_count": 21,
   "metadata": {},
   "outputs": [
    {
     "name": "stderr",
     "output_type": "stream",
     "text": [
      "\u001b[32m2025-05-12 20:44:09.223\u001b[0m | \u001b[1mINFO    \u001b[0m | \u001b[36m__main__\u001b[0m:\u001b[36mfetch_new_movies\u001b[0m:\u001b[36m6\u001b[0m - \u001b[1mFetching new movies...\u001b[0m\n",
      "\u001b[32m2025-05-12 20:44:40.481\u001b[0m | \u001b[1mINFO    \u001b[0m | \u001b[36m__main__\u001b[0m:\u001b[36mfetch_new_movies\u001b[0m:\u001b[36m23\u001b[0m - \u001b[1mFetched 4 new movies.\u001b[0m\n"
     ]
    }
   ],
   "source": [
    "# Fetch and enrich only new movies\n",
    "df_new_movies = fetch_new_movies(pages=50, existing_ids=existing_ids)"
   ]
  },
  {
   "cell_type": "code",
   "execution_count": null,
   "metadata": {},
   "outputs": [
    {
     "name": "stderr",
     "output_type": "stream",
     "text": [
      "\u001b[32m2025-05-12 20:44:40.514\u001b[0m | \u001b[1mINFO    \u001b[0m | \u001b[36m__main__\u001b[0m:\u001b[36mget_popular_ids\u001b[0m:\u001b[36m11\u001b[0m - \u001b[1mFetching popular movie IDs...\u001b[0m\n",
      "\u001b[32m2025-05-12 20:44:40.515\u001b[0m | \u001b[1mINFO    \u001b[0m | \u001b[36m__main__\u001b[0m:\u001b[36mget_movies\u001b[0m:\u001b[36m13\u001b[0m - \u001b[1mFetching movies from /movie/popular...\u001b[0m\n",
      "\u001b[32m2025-05-12 20:44:46.187\u001b[0m | \u001b[1mINFO    \u001b[0m | \u001b[36m__main__\u001b[0m:\u001b[36mget_movies\u001b[0m:\u001b[36m27\u001b[0m - \u001b[1mFetched 200 movies from /movie/popular.\u001b[0m\n",
      "\u001b[32m2025-05-12 20:44:46.189\u001b[0m | \u001b[1mINFO    \u001b[0m | \u001b[36m__main__\u001b[0m:\u001b[36mget_popular_ids\u001b[0m:\u001b[36m15\u001b[0m - \u001b[1mFetched 200 popular movies.\u001b[0m\n",
      "\u001b[32m2025-05-12 20:44:46.194\u001b[0m | \u001b[1mINFO    \u001b[0m | \u001b[36m__main__\u001b[0m:\u001b[36menrich_movies\u001b[0m:\u001b[36m5\u001b[0m - \u001b[1mEnriching movies...\u001b[0m\n",
      "\u001b[32m2025-05-12 20:44:46.195\u001b[0m | \u001b[1mINFO    \u001b[0m | \u001b[36m__main__\u001b[0m:\u001b[36menrich_movie_details\u001b[0m:\u001b[36m7\u001b[0m - \u001b[1mEnriching details for movie ID 1112417...\u001b[0m\n",
      "\u001b[32m2025-05-12 20:44:46.691\u001b[0m | \u001b[1mINFO    \u001b[0m | \u001b[36m__main__\u001b[0m:\u001b[36menrich_movie_details\u001b[0m:\u001b[36m7\u001b[0m - \u001b[1mEnriching details for movie ID 1313194...\u001b[0m\n",
      "\u001b[32m2025-05-12 20:44:47.289\u001b[0m | \u001b[1mINFO    \u001b[0m | \u001b[36m__main__\u001b[0m:\u001b[36menrich_movie_details\u001b[0m:\u001b[36m7\u001b[0m - \u001b[1mEnriching details for movie ID 1371789...\u001b[0m\n",
      "\u001b[32m2025-05-12 20:44:47.573\u001b[0m | \u001b[1mINFO    \u001b[0m | \u001b[36m__main__\u001b[0m:\u001b[36menrich_movie_details\u001b[0m:\u001b[36m7\u001b[0m - \u001b[1mEnriching details for movie ID 1297453...\u001b[0m\n",
      "\u001b[32m2025-05-12 20:44:48.066\u001b[0m | \u001b[1mINFO    \u001b[0m | \u001b[36m__main__\u001b[0m:\u001b[36mget_keywords\u001b[0m:\u001b[36m5\u001b[0m - \u001b[1mGetting keywords for movie ID 1112417...\u001b[0m\n",
      "\u001b[32m2025-05-12 20:44:48.302\u001b[0m | \u001b[1mINFO    \u001b[0m | \u001b[36m__main__\u001b[0m:\u001b[36mget_keywords\u001b[0m:\u001b[36m5\u001b[0m - \u001b[1mGetting keywords for movie ID 1313194...\u001b[0m\n",
      "\u001b[32m2025-05-12 20:44:48.519\u001b[0m | \u001b[1mINFO    \u001b[0m | \u001b[36m__main__\u001b[0m:\u001b[36mget_keywords\u001b[0m:\u001b[36m5\u001b[0m - \u001b[1mGetting keywords for movie ID 1371789...\u001b[0m\n",
      "\u001b[32m2025-05-12 20:44:48.759\u001b[0m | \u001b[1mINFO    \u001b[0m | \u001b[36m__main__\u001b[0m:\u001b[36mget_keywords\u001b[0m:\u001b[36m5\u001b[0m - \u001b[1mGetting keywords for movie ID 1297453...\u001b[0m\n",
      "\u001b[32m2025-05-12 20:44:49.253\u001b[0m | \u001b[1mINFO    \u001b[0m | \u001b[36m__main__\u001b[0m:\u001b[36menrich_movies\u001b[0m:\u001b[36m12\u001b[0m - \u001b[1mEnriched 4 movies.\u001b[0m\n"
     ]
    }
   ],
   "source": [
    "if not df_new_movies.empty:\n",
    "    df_new_movies[\"is_popular\"] = df_new_movies[\"id\"].isin(get_popular_ids())\n",
    "    df_new_movies = enrich_movies(df_new_movies)\n",
    "    df_movies = (\n",
    "        pd.concat([df_movies, df_new_movies])\n",
    "        .drop_duplicates(subset=\"id\")\n",
    "        .reset_index(drop=True)\n",
    "    )"
   ]
  },
  {
   "cell_type": "code",
   "execution_count": 23,
   "metadata": {},
   "outputs": [
    {
     "data": {
      "text/html": [
       "<div>\n",
       "<style scoped>\n",
       "    .dataframe tbody tr th:only-of-type {\n",
       "        vertical-align: middle;\n",
       "    }\n",
       "\n",
       "    .dataframe tbody tr th {\n",
       "        vertical-align: top;\n",
       "    }\n",
       "\n",
       "    .dataframe thead th {\n",
       "        text-align: right;\n",
       "    }\n",
       "</style>\n",
       "<table border=\"1\" class=\"dataframe\">\n",
       "  <thead>\n",
       "    <tr style=\"text-align: right;\">\n",
       "      <th></th>\n",
       "      <th>adult</th>\n",
       "      <th>backdrop_path</th>\n",
       "      <th>genre_ids</th>\n",
       "      <th>id</th>\n",
       "      <th>original_language</th>\n",
       "      <th>original_title</th>\n",
       "      <th>overview</th>\n",
       "      <th>popularity</th>\n",
       "      <th>poster_path</th>\n",
       "      <th>release_date</th>\n",
       "      <th>title</th>\n",
       "      <th>video</th>\n",
       "      <th>vote_average</th>\n",
       "      <th>vote_count</th>\n",
       "      <th>source</th>\n",
       "      <th>entry_date</th>\n",
       "      <th>was_ingested</th>\n",
       "      <th>is_popular</th>\n",
       "      <th>runtime</th>\n",
       "      <th>budget</th>\n",
       "      <th>revenue</th>\n",
       "      <th>status</th>\n",
       "      <th>tagline</th>\n",
       "      <th>genres</th>\n",
       "      <th>spoken_languages</th>\n",
       "      <th>keywords</th>\n",
       "    </tr>\n",
       "  </thead>\n",
       "  <tbody>\n",
       "    <tr>\n",
       "      <th>0</th>\n",
       "      <td>False</td>\n",
       "      <td>/1ikqGTVjXA9wkDsESVVzpLP8H1r.jpg</td>\n",
       "      <td>[28, 80, 53]</td>\n",
       "      <td>1144430</td>\n",
       "      <td>fr</td>\n",
       "      <td>Balle perdue 3</td>\n",
       "      <td>Car genius Lino returns to conclude his vendet...</td>\n",
       "      <td>219.2462</td>\n",
       "      <td>/qycPITRqXgPai7zj1gKffjCdSB5.jpg</td>\n",
       "      <td>2025-05-06</td>\n",
       "      <td>Last Bullet</td>\n",
       "      <td>False</td>\n",
       "      <td>8.100</td>\n",
       "      <td>10</td>\n",
       "      <td>exploratory</td>\n",
       "      <td>2025-01-09</td>\n",
       "      <td>False</td>\n",
       "      <td>True</td>\n",
       "      <td>112</td>\n",
       "      <td>0</td>\n",
       "      <td>0</td>\n",
       "      <td>Released</td>\n",
       "      <td></td>\n",
       "      <td>[Acción, Crimen, Suspense]</td>\n",
       "      <td>[Français]</td>\n",
       "      <td>[]</td>\n",
       "    </tr>\n",
       "    <tr>\n",
       "      <th>1</th>\n",
       "      <td>False</td>\n",
       "      <td>/iznPd7PLnCBA1G50M4DuA9wvCIy.jpg</td>\n",
       "      <td>[35]</td>\n",
       "      <td>1307520</td>\n",
       "      <td>es</td>\n",
       "      <td>La más fan</td>\n",
       "      <td>Canceled in Hollywood, star Lana Cruz heads to...</td>\n",
       "      <td>98.7524</td>\n",
       "      <td>/wgUmsekYPOt9ZQ8ero91qRnmhQY.jpg</td>\n",
       "      <td>2025-05-01</td>\n",
       "      <td>The Biggest Fan</td>\n",
       "      <td>False</td>\n",
       "      <td>5.100</td>\n",
       "      <td>12</td>\n",
       "      <td>exploratory</td>\n",
       "      <td>2025-03-08</td>\n",
       "      <td>False</td>\n",
       "      <td>True</td>\n",
       "      <td>91</td>\n",
       "      <td>0</td>\n",
       "      <td>0</td>\n",
       "      <td>Released</td>\n",
       "      <td></td>\n",
       "      <td>[Comedia]</td>\n",
       "      <td>[Español]</td>\n",
       "      <td>[obssesive fan, comedy thriller, celebratory, ...</td>\n",
       "    </tr>\n",
       "    <tr>\n",
       "      <th>2</th>\n",
       "      <td>False</td>\n",
       "      <td>/ioMxoDUyaRtMZPgoOU5wJkErtKS.jpg</td>\n",
       "      <td>[18, 80]</td>\n",
       "      <td>1242686</td>\n",
       "      <td>en</td>\n",
       "      <td>Salvable</td>\n",
       "      <td>When a battered boxer past his prime finds his...</td>\n",
       "      <td>18.2723</td>\n",
       "      <td>/cAPIS05UGqsTwiu0Qjs0WlIUW1l.jpg</td>\n",
       "      <td>2025-05-01</td>\n",
       "      <td>Salvable</td>\n",
       "      <td>False</td>\n",
       "      <td>7.100</td>\n",
       "      <td>10</td>\n",
       "      <td>exploratory</td>\n",
       "      <td>2025-03-10</td>\n",
       "      <td>False</td>\n",
       "      <td>False</td>\n",
       "      <td>101</td>\n",
       "      <td>0</td>\n",
       "      <td>0</td>\n",
       "      <td>Released</td>\n",
       "      <td></td>\n",
       "      <td>[Drama, Crimen]</td>\n",
       "      <td>[English]</td>\n",
       "      <td>[boxing, illegal boxing, sports drama]</td>\n",
       "    </tr>\n",
       "    <tr>\n",
       "      <th>3</th>\n",
       "      <td>False</td>\n",
       "      <td>/sulb7RwIiO77n1XNM2VhldUFDW1.jpg</td>\n",
       "      <td>[80, 53, 28]</td>\n",
       "      <td>1060046</td>\n",
       "      <td>te</td>\n",
       "      <td>హిట్: ది థర్డ్ కేస్</td>\n",
       "      <td>Arjun Sarkaar, an SP in HIT at Visakhapatnam, ...</td>\n",
       "      <td>9.9606</td>\n",
       "      <td>/wT9tGyFol4RBwkjESXUWeBdnLJn.jpg</td>\n",
       "      <td>2025-04-30</td>\n",
       "      <td>HIT: The Third Case</td>\n",
       "      <td>False</td>\n",
       "      <td>8.800</td>\n",
       "      <td>10</td>\n",
       "      <td>exploratory</td>\n",
       "      <td>2025-02-17</td>\n",
       "      <td>False</td>\n",
       "      <td>False</td>\n",
       "      <td>157</td>\n",
       "      <td>7000000</td>\n",
       "      <td>0</td>\n",
       "      <td>Released</td>\n",
       "      <td></td>\n",
       "      <td>[Crimen, Suspense, Acción]</td>\n",
       "      <td>[]</td>\n",
       "      <td>[investigation, violent death, brutal murder]</td>\n",
       "    </tr>\n",
       "    <tr>\n",
       "      <th>4</th>\n",
       "      <td>False</td>\n",
       "      <td>/bVm6udIB6iKsRqgMdQh6HywuEBj.jpg</td>\n",
       "      <td>[53, 28]</td>\n",
       "      <td>1233069</td>\n",
       "      <td>de</td>\n",
       "      <td>Exterritorial</td>\n",
       "      <td>When her son vanishes inside a US consulate, e...</td>\n",
       "      <td>599.2458</td>\n",
       "      <td>/jM2uqCZNKbiyStyzXOERpMqAbdx.jpg</td>\n",
       "      <td>2025-04-29</td>\n",
       "      <td>Exterritorial</td>\n",
       "      <td>False</td>\n",
       "      <td>6.735</td>\n",
       "      <td>213</td>\n",
       "      <td>exploratory</td>\n",
       "      <td>2025-01-30</td>\n",
       "      <td>False</td>\n",
       "      <td>True</td>\n",
       "      <td>109</td>\n",
       "      <td>0</td>\n",
       "      <td>0</td>\n",
       "      <td>Released</td>\n",
       "      <td></td>\n",
       "      <td>[Suspense, Acción]</td>\n",
       "      <td>[Deutsch, English]</td>\n",
       "      <td>[frankfurt am main, germany, conspiracy, missi...</td>\n",
       "    </tr>\n",
       "  </tbody>\n",
       "</table>\n",
       "</div>"
      ],
      "text/plain": [
       "   adult                     backdrop_path     genre_ids       id  \\\n",
       "0  False  /1ikqGTVjXA9wkDsESVVzpLP8H1r.jpg  [28, 80, 53]  1144430   \n",
       "1  False  /iznPd7PLnCBA1G50M4DuA9wvCIy.jpg          [35]  1307520   \n",
       "2  False  /ioMxoDUyaRtMZPgoOU5wJkErtKS.jpg      [18, 80]  1242686   \n",
       "3  False  /sulb7RwIiO77n1XNM2VhldUFDW1.jpg  [80, 53, 28]  1060046   \n",
       "4  False  /bVm6udIB6iKsRqgMdQh6HywuEBj.jpg      [53, 28]  1233069   \n",
       "\n",
       "  original_language       original_title  \\\n",
       "0                fr       Balle perdue 3   \n",
       "1                es           La más fan   \n",
       "2                en             Salvable   \n",
       "3                te  హిట్: ది థర్డ్ కేస్   \n",
       "4                de        Exterritorial   \n",
       "\n",
       "                                            overview  popularity  \\\n",
       "0  Car genius Lino returns to conclude his vendet...    219.2462   \n",
       "1  Canceled in Hollywood, star Lana Cruz heads to...     98.7524   \n",
       "2  When a battered boxer past his prime finds his...     18.2723   \n",
       "3  Arjun Sarkaar, an SP in HIT at Visakhapatnam, ...      9.9606   \n",
       "4  When her son vanishes inside a US consulate, e...    599.2458   \n",
       "\n",
       "                        poster_path release_date                title  video  \\\n",
       "0  /qycPITRqXgPai7zj1gKffjCdSB5.jpg   2025-05-06          Last Bullet  False   \n",
       "1  /wgUmsekYPOt9ZQ8ero91qRnmhQY.jpg   2025-05-01      The Biggest Fan  False   \n",
       "2  /cAPIS05UGqsTwiu0Qjs0WlIUW1l.jpg   2025-05-01             Salvable  False   \n",
       "3  /wT9tGyFol4RBwkjESXUWeBdnLJn.jpg   2025-04-30  HIT: The Third Case  False   \n",
       "4  /jM2uqCZNKbiyStyzXOERpMqAbdx.jpg   2025-04-29        Exterritorial  False   \n",
       "\n",
       "   vote_average  vote_count       source entry_date  was_ingested  is_popular  \\\n",
       "0         8.100          10  exploratory 2025-01-09         False        True   \n",
       "1         5.100          12  exploratory 2025-03-08         False        True   \n",
       "2         7.100          10  exploratory 2025-03-10         False       False   \n",
       "3         8.800          10  exploratory 2025-02-17         False       False   \n",
       "4         6.735         213  exploratory 2025-01-30         False        True   \n",
       "\n",
       "   runtime   budget  revenue    status tagline                      genres  \\\n",
       "0      112        0        0  Released          [Acción, Crimen, Suspense]   \n",
       "1       91        0        0  Released                           [Comedia]   \n",
       "2      101        0        0  Released                     [Drama, Crimen]   \n",
       "3      157  7000000        0  Released          [Crimen, Suspense, Acción]   \n",
       "4      109        0        0  Released                  [Suspense, Acción]   \n",
       "\n",
       "     spoken_languages                                           keywords  \n",
       "0          [Français]                                                 []  \n",
       "1           [Español]  [obssesive fan, comedy thriller, celebratory, ...  \n",
       "2           [English]             [boxing, illegal boxing, sports drama]  \n",
       "3                  []      [investigation, violent death, brutal murder]  \n",
       "4  [Deutsch, English]  [frankfurt am main, germany, conspiracy, missi...  "
      ]
     },
     "execution_count": 23,
     "metadata": {},
     "output_type": "execute_result"
    }
   ],
   "source": [
    "df_movies.head(5)"
   ]
  },
  {
   "cell_type": "code",
   "execution_count": 24,
   "metadata": {},
   "outputs": [],
   "source": [
    "today_str = datetime.today().strftime(\"%Y-%m-%d\")\n",
    "filename = DATA_DIR / f\"data/01_raw/movies_dataset_{today_str}.parquet\"\n",
    "df_movies.to_parquet(filename, index=False)"
   ]
  }
 ],
 "metadata": {
  "colab": {
   "provenance": [],
   "toc_visible": true
  },
  "kernelspec": {
   "display_name": "Python 3",
   "language": "python",
   "name": "python3"
  },
  "language_info": {
   "codemirror_mode": {
    "name": "ipython",
    "version": 3
   },
   "file_extension": ".py",
   "mimetype": "text/x-python",
   "name": "python",
   "nbconvert_exporter": "python",
   "pygments_lexer": "ipython3",
   "version": "3.11.9"
  }
 },
 "nbformat": 4,
 "nbformat_minor": 4
}
