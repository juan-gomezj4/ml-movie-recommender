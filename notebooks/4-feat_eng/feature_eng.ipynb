{
 "cells": [
  {
   "cell_type": "markdown",
   "id": "cc19a0ab",
   "metadata": {},
   "source": [
    "import pandas as pd"
   ]
  }
 ],
 "metadata": {
  "language_info": {
   "name": "python"
  }
 },
 "nbformat": 4,
 "nbformat_minor": 5
}
