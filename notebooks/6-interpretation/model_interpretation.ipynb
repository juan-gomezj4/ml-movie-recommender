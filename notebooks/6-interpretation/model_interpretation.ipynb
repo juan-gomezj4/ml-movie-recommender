{
 "cells": [
  {
   "cell_type": "markdown",
   "id": "5142461d",
   "metadata": {},
   "source": [
    "## 📥 Carga de datos y preprocesamiento"
   ]
  },
  {
   "cell_type": "code",
   "execution_count": 1,
   "id": "f6c66403",
   "metadata": {},
   "outputs": [],
   "source": [
    "import pandas as pd\n",
    "from pathlib import Path\n",
    "\n",
    "# Configurar ruta del dataset\n",
    "DATA_DIR = Path.cwd().resolve().parents[1]\n",
    "df = pd.read_parquet(DATA_DIR / \"data/01_raw/movies_dataset_2025-05-07.parquet\")\n",
    "\n",
    "# Selección de variables relevantes\n",
    "use_features = [\n",
    "    \"title\", \"original_language\", \"popularity\", \"vote_average\", \"vote_count\",\n",
    "    \"is_popular\", \"runtime\", \"budget\", \"revenue\", \"genres\", \"spoken_languages\"\n",
    "]\n",
    "df = df[use_features]\n",
    "\n",
    "# Limpieza básica\n",
    "df.drop_duplicates(subset=[\n",
    "    \"original_language\", \"popularity\", \"vote_average\", \"vote_count\",\n",
    "    \"is_popular\", \"runtime\", \"budget\", \"revenue\"\n",
    "], inplace=True)\n",
    "\n",
    "df[\"is_popular\"] = df[\"is_popular\"].astype(\"int8\")\n",
    "df[\"original_language\"] = df[\"original_language\"].astype(\"category\")"
   ]
  },
  {
   "cell_type": "markdown",
   "id": "d1170dc0",
   "metadata": {},
   "source": [
    "## ⚙️ Preprocesamiento de variables"
   ]
  },
  {
   "cell_type": "code",
   "execution_count": 2,
   "id": "2af3620d",
   "metadata": {},
   "outputs": [],
   "source": [
    "from sklearn.pipeline import Pipeline\n",
    "from sklearn.compose import ColumnTransformer\n",
    "from sklearn.preprocessing import OneHotEncoder, FunctionTransformer\n",
    "from sklearn.impute import SimpleImputer\n",
    "\n",
    "# Variables categóricas y numéricas\n",
    "cat_cols = [\"original_language\"]\n",
    "num_cols = [\"popularity\", \"vote_average\", \"vote_count\", \"runtime\", \"budget\", \"revenue\"]\n",
    "\n",
    "# Pipeline por tipo\n",
    "cat_pipeline = Pipeline([\n",
    "    (\"imputer\", SimpleImputer(strategy=\"most_frequent\")),\n",
    "    (\"encoder\", OneHotEncoder(handle_unknown=\"ignore\"))\n",
    "])\n",
    "\n",
    "num_pipeline = Pipeline([\n",
    "    (\"imputer\", SimpleImputer(strategy=\"mean\"))\n",
    "])\n",
    "\n",
    "# Column transformer\n",
    "preprocessor = ColumnTransformer([\n",
    "    (\"num\", num_pipeline, num_cols),\n",
    "    (\"cat\", cat_pipeline, cat_cols)\n",
    "])\n",
    "\n",
    "# Aplicar preprocesamiento\n",
    "preprocessed = preprocessor.fit_transform(df)"
   ]
  },
  {
   "cell_type": "markdown",
   "id": "18104f49",
   "metadata": {},
   "source": [
    "## 🔄 Cálculo de similitudes"
   ]
  },
  {
   "cell_type": "code",
   "execution_count": 3,
   "id": "4f2b59fc",
   "metadata": {},
   "outputs": [],
   "source": [
    "from sklearn.metrics.pairwise import cosine_similarity\n",
    "\n",
    "# Similaridad coseno entre todas las películas\n",
    "cosine_sim = cosine_similarity(preprocessed, preprocessed)\n",
    "\n",
    "# Selección de índice de referencia para comparación\n",
    "idx = 0  # Cambiar por otro índice si deseas"
   ]
  },
  {
   "cell_type": "markdown",
   "id": "7e3f9f0a",
   "metadata": {},
   "source": [
    "## 🔍 Interpretabilidad no supervisada: Permutación y Sensibilidad"
   ]
  },
  {
   "cell_type": "code",
   "execution_count": 6,
   "id": "1aed05b4",
   "metadata": {
    "scrolled": true
   },
   "outputs": [
    {
     "data": {
      "image/png": "[encoded data removed]",
      "text/plain": [
       "<Figure size 800x600 with 1 Axes>"
      ]
     },
     "metadata": {},
     "output_type": "display_data"
    }
   ],
   "source": [
    "from sklearn.utils import shuffle\n",
    "from sklearn.metrics.pairwise import cosine_similarity\n",
    "import numpy as np\n",
    "\n",
    "def permutation_importance_unsupervised(\n",
    "    df: pd.DataFrame, \n",
    "    preprocessor, \n",
    "    var: str, \n",
    "    idx: int = 0\n",
    ") -> float:\n",
    "    \"\"\"\n",
    "    Estimate global importance of a feature by shuffling it and comparing cosine similarity.\n",
    "    \"\"\"\n",
    "    df_permuted = df.copy()\n",
    "    df_permuted[var] = shuffle(df_permuted[var].values, random_state=42)\n",
    "    \n",
    "    X_permuted = preprocessor.transform(df_permuted)\n",
    "\n",
    "    # slicing seguro para csr_matrix (mantiene 2D)\n",
    "    sim_original = cosine_similarity(preprocessed[idx:idx+1], preprocessed).flatten()\n",
    "    sim_permuted = cosine_similarity(preprocessed[idx:idx+1], X_permuted).flatten()\n",
    "\n",
    "    return float(np.mean(np.abs(sim_original - sim_permuted)))\n",
    "\n",
    "# Aplicar a columnas seleccionadas\n",
    "cols_to_evaluate = [col for col in df.columns if col not in [\"title\", \"genres\", \"spoken_languages\"]]\n",
    "perm_importance = {\n",
    "    col: permutation_importance_unsupervised(df, preprocessor, col, idx=0)\n",
    "    for col in cols_to_evaluate\n",
    "}\n",
    "\n",
    "# Visualizar\n",
    "pd.Series(perm_importance).sort_values().plot.barh(figsize=(8, 6), title=\"Importancia por Permutación (Coseno)\")\n",
    "plt.xlabel(\"Impacto promedio en similitud\")\n",
    "plt.tight_layout()\n",
    "plt.show()\n"
   ]
  },
  {
   "cell_type": "code",
   "execution_count": 8,
   "id": "8e915ec5",
   "metadata": {},
   "outputs": [
    {
     "data": {
      "text/html": [
       "<div>\n",
       "<style scoped>\n",
       "    .dataframe tbody tr th:only-of-type {\n",
       "        vertical-align: middle;\n",
       "    }\n",
       "\n",
       "    .dataframe tbody tr th {\n",
       "        vertical-align: top;\n",
       "    }\n",
       "\n",
       "    .dataframe thead th {\n",
       "        text-align: right;\n",
       "    }\n",
       "</style>\n",
       "<table border=\"1\" class=\"dataframe\">\n",
       "  <thead>\n",
       "    <tr style=\"text-align: right;\">\n",
       "      <th></th>\n",
       "      <th>title</th>\n",
       "      <th>impacto_similitud</th>\n",
       "    </tr>\n",
       "  </thead>\n",
       "  <tbody>\n",
       "    <tr>\n",
       "      <th>7046</th>\n",
       "      <td>Gaspard Proust : Dernier Spectacle</td>\n",
       "      <td>0.002536</td>\n",
       "    </tr>\n",
       "    <tr>\n",
       "      <th>5629</th>\n",
       "      <td>Italia 1982, una storia azzurra</td>\n",
       "      <td>0.002479</td>\n",
       "    </tr>\n",
       "    <tr>\n",
       "      <th>4770</th>\n",
       "      <td>Solo Somos Carne</td>\n",
       "      <td>0.002374</td>\n",
       "    </tr>\n",
       "    <tr>\n",
       "      <th>553</th>\n",
       "      <td>RTI</td>\n",
       "      <td>0.002362</td>\n",
       "    </tr>\n",
       "    <tr>\n",
       "      <th>2521</th>\n",
       "      <td>Fly On</td>\n",
       "      <td>0.002353</td>\n",
       "    </tr>\n",
       "    <tr>\n",
       "      <th>1791</th>\n",
       "      <td>A Portrait of Jianghu: The Legend</td>\n",
       "      <td>0.002348</td>\n",
       "    </tr>\n",
       "    <tr>\n",
       "      <th>6815</th>\n",
       "      <td>Swinging</td>\n",
       "      <td>0.002337</td>\n",
       "    </tr>\n",
       "    <tr>\n",
       "      <th>1939</th>\n",
       "      <td>Ritmo de Natal</td>\n",
       "      <td>0.002310</td>\n",
       "    </tr>\n",
       "    <tr>\n",
       "      <th>221</th>\n",
       "      <td>Questi fantasmi</td>\n",
       "      <td>0.002309</td>\n",
       "    </tr>\n",
       "    <tr>\n",
       "      <th>1172</th>\n",
       "      <td>La Fulgurée</td>\n",
       "      <td>0.002309</td>\n",
       "    </tr>\n",
       "  </tbody>\n",
       "</table>\n",
       "</div>"
      ],
      "text/plain": [
       "                                   title  impacto_similitud\n",
       "7046  Gaspard Proust : Dernier Spectacle           0.002536\n",
       "5629     Italia 1982, una storia azzurra           0.002479\n",
       "4770                    Solo Somos Carne           0.002374\n",
       "553                                  RTI           0.002362\n",
       "2521                              Fly On           0.002353\n",
       "1791   A Portrait of Jianghu: The Legend           0.002348\n",
       "6815                            Swinging           0.002337\n",
       "1939                      Ritmo de Natal           0.002310\n",
       "221                      Questi fantasmi           0.002309\n",
       "1172                         La Fulgurée           0.002309"
      ]
     },
     "execution_count": 8,
     "metadata": {},
     "output_type": "execute_result"
    }
   ],
   "source": [
    "# Sensibilidad local\n",
    "def sensibilidad_variable(\n",
    "    df: pd.DataFrame, \n",
    "    preprocessor, \n",
    "    var: str, \n",
    "    idx: int = 0, \n",
    "    delta: float = 1.0\n",
    ") -> pd.DataFrame:\n",
    "    \"\"\"\n",
    "    Estimate local sensitivity by modifying one variable and checking similarity change.\n",
    "    \"\"\"\n",
    "    df_modified = df.copy()\n",
    "    df_modified.loc[idx, var] += delta\n",
    "    X_modified = preprocessor.transform(df_modified)\n",
    "\n",
    "    # CORRECTO: slicing para mantener el tipo csr_matrix 2D\n",
    "    sim_original = cosine_similarity(preprocessed[idx:idx+1], preprocessed).flatten()\n",
    "    sim_modified = cosine_similarity(X_modified[idx:idx+1], X_modified).flatten()\n",
    "\n",
    "    impacto = np.abs(sim_modified - sim_original)\n",
    "    impacto_df = pd.DataFrame({\n",
    "        \"title\": df[\"title\"],\n",
    "        \"impacto_similitud\": impacto\n",
    "    })\n",
    "    return impacto_df.sort_values(\"impacto_similitud\", ascending=False).head(10)\n",
    "\n",
    "# Ejemplo\n",
    "sensibilidad_variable(df, preprocessor, var=\"vote_average\", idx=0, delta=1.0)"
   ]
  },
  {
   "cell_type": "markdown",
   "id": "a9d573fc-2239-4fa8-9d0e-3b3857977536",
   "metadata": {},
   "source": [
    "## 🧾 Conclusiones de la Interpretabilidad"
   ]
  },
  {
   "cell_type": "markdown",
   "id": "da310581-bf61-4212-a273-4dd99e4c1599",
   "metadata": {},
   "source": [
    "Se evaluó cómo influye cada variable en el sistema de recomendación basado en similitud de coseno. A continuación, los hallazgos clave:\n",
    "\n",
    "📌 1. Variables más influyentes:\n",
    "\n",
    "Las variables que más impactan la similitud entre películas son:\n",
    "\n",
    "revenue, vote_count y budget → El sistema agrupa principalmente por éxito financiero y volumen de participación del público.\n",
    "\n",
    "runtime y popularity → Tienen un impacto moderado.\n",
    "\n",
    "vote_average, original_language e is_popular → Tienen poca influencia en la similitud calculada.\n",
    "\n",
    "Esto sugiere que el sistema da más peso a lo cuantitativo que a lo cualitativo.\n",
    "\n",
    "📌 2. Cambios puntuales:\n",
    "\n",
    "Al modificar ligeramente una variable en una película específica (ej. vote_average), los cambios en el ranking de películas similares son leves. Las más afectadas suelen ser películas menos destacadas.\n",
    "\n",
    "\n",
    "✅ Recomendaciones:\n",
    "\n",
    "Si se quiere priorizar aspectos cualitativos o contextuales, como idioma o calificación promedio, conviene ajustar pesos o usar modelos supervisados.\n",
    "\n",
    "Esta interpretación ayuda a alinear el sistema con los objetivos: ¿destacar lo más popular, lo más rentable o lo más relevante para cada usuario?"
   ]
  }
 ],
 "metadata": {
  "kernelspec": {
   "display_name": "Python 3.11 (ml-movie-recommender)",
   "language": "python",
   "name": "ml-movie-recommender"
  },
  "language_info": {
   "codemirror_mode": {
    "name": "ipython",
    "version": 3
   },
   "file_extension": ".py",
   "mimetype": "text/x-python",
   "name": "python",
   "nbconvert_exporter": "python",
   "pygments_lexer": "ipython3",
   "version": "3.11.12"
  }
 },
 "nbformat": 4,
 "nbformat_minor": 5
}
