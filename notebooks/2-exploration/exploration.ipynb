{
 "cells": [
  {
   "cell_type": "markdown",
   "metadata": {},
   "source": [
    "## Title\n",
    "Data Raw Exploration\n",
    "\n",
    "### By:\n",
    "Santiago Puerta - Juan Gómez\n",
    "\n",
    "### Date:\n",
    "2024-05-11\n",
    "\n",
    "### Description:\n",
    "\n",
    "This notebook explores the raw movie data collected from the TMDb API. It shows basic statistics, checks missing values, and looks at trends in popularity, genres, and ratings. The goal is to understand the data before building a recommendation system.\n"
   ]
  },
  {
   "cell_type": "markdown",
   "metadata": {
    "pycharm": {
     "name": "#%% md\n"
    }
   },
   "source": [
    "## Import  libraries"
   ]
  },
  {
   "cell_type": "code",
   "execution_count": 1,
   "metadata": {
    "collapsed": false,
    "jupyter": {
     "outputs_hidden": false
    },
    "pycharm": {
     "name": "#%%\n"
    }
   },
   "outputs": [],
   "source": [
    "import pandas as pd"
   ]
  },
  {
   "cell_type": "markdown",
   "metadata": {
    "pycharm": {
     "name": "#%% md\n"
    }
   },
   "source": [
    "## Load data"
   ]
  },
  {
   "cell_type": "code",
   "execution_count": 2,
   "metadata": {},
   "outputs": [],
   "source": [
    "from pathlib import Path\n",
    "\n",
    "pd.set_option(\"display.max_columns\", None)\n",
    "\n",
    "DATA_DIR = Path.cwd().resolve().parents[1]"
   ]
  },
  {
   "cell_type": "code",
   "execution_count": 3,
   "metadata": {
    "collapsed": false,
    "jupyter": {
     "outputs_hidden": false
    },
    "pycharm": {
     "name": "#%%\n"
    }
   },
   "outputs": [],
   "source": [
    "df_movies = pd.read_parquet(DATA_DIR / \"data/01_raw/movies_dataset_2025-05-07.parquet\")"
   ]
  },
  {
   "cell_type": "markdown",
   "metadata": {},
   "source": [
    "## Exploration"
   ]
  },
  {
   "cell_type": "code",
   "execution_count": 4,
   "metadata": {
    "collapsed": false,
    "jupyter": {
     "outputs_hidden": false
    },
    "pycharm": {
     "name": "#%%\n"
    }
   },
   "outputs": [
    {
     "name": "stdout",
     "output_type": "stream",
     "text": [
      "<class 'pandas.core.frame.DataFrame'>\n",
      "RangeIndex: 8000 entries, 0 to 7999\n",
      "Data columns (total 26 columns):\n",
      " #   Column             Non-Null Count  Dtype         \n",
      "---  ------             --------------  -----         \n",
      " 0   adult              8000 non-null   bool          \n",
      " 1   backdrop_path      7921 non-null   object        \n",
      " 2   genre_ids          8000 non-null   object        \n",
      " 3   id                 8000 non-null   int64         \n",
      " 4   original_language  8000 non-null   object        \n",
      " 5   original_title     8000 non-null   object        \n",
      " 6   overview           8000 non-null   object        \n",
      " 7   popularity         8000 non-null   float64       \n",
      " 8   poster_path        7991 non-null   object        \n",
      " 9   release_date       8000 non-null   object        \n",
      " 10  title              8000 non-null   object        \n",
      " 11  video              8000 non-null   bool          \n",
      " 12  vote_average       8000 non-null   float64       \n",
      " 13  vote_count         8000 non-null   int64         \n",
      " 14  source             8000 non-null   object        \n",
      " 15  entry_date         8000 non-null   datetime64[ns]\n",
      " 16  was_ingested       8000 non-null   bool          \n",
      " 17  is_popular         8000 non-null   bool          \n",
      " 18  runtime            8000 non-null   int64         \n",
      " 19  budget             8000 non-null   int64         \n",
      " 20  revenue            8000 non-null   int64         \n",
      " 21  status             8000 non-null   object        \n",
      " 22  tagline            8000 non-null   object        \n",
      " 23  genres             8000 non-null   object        \n",
      " 24  spoken_languages   8000 non-null   object        \n",
      " 25  keywords           8000 non-null   object        \n",
      "dtypes: bool(4), datetime64[ns](1), float64(2), int64(5), object(14)\n",
      "memory usage: 1.4+ MB\n"
     ]
    }
   ],
   "source": [
    "df_movies.info()"
   ]
  },
  {
   "cell_type": "code",
   "execution_count": 5,
   "metadata": {},
   "outputs": [
    {
     "data": {
      "text/html": [
       "<div>\n",
       "<style scoped>\n",
       "    .dataframe tbody tr th:only-of-type {\n",
       "        vertical-align: middle;\n",
       "    }\n",
       "\n",
       "    .dataframe tbody tr th {\n",
       "        vertical-align: top;\n",
       "    }\n",
       "\n",
       "    .dataframe thead th {\n",
       "        text-align: right;\n",
       "    }\n",
       "</style>\n",
       "<table border=\"1\" class=\"dataframe\">\n",
       "  <thead>\n",
       "    <tr style=\"text-align: right;\">\n",
       "      <th></th>\n",
       "      <th>adult</th>\n",
       "      <th>backdrop_path</th>\n",
       "      <th>genre_ids</th>\n",
       "      <th>id</th>\n",
       "      <th>original_language</th>\n",
       "      <th>original_title</th>\n",
       "      <th>overview</th>\n",
       "      <th>popularity</th>\n",
       "      <th>poster_path</th>\n",
       "      <th>release_date</th>\n",
       "      <th>title</th>\n",
       "      <th>video</th>\n",
       "      <th>vote_average</th>\n",
       "      <th>vote_count</th>\n",
       "      <th>source</th>\n",
       "      <th>entry_date</th>\n",
       "      <th>was_ingested</th>\n",
       "      <th>is_popular</th>\n",
       "      <th>runtime</th>\n",
       "      <th>budget</th>\n",
       "      <th>revenue</th>\n",
       "      <th>status</th>\n",
       "      <th>tagline</th>\n",
       "      <th>genres</th>\n",
       "      <th>spoken_languages</th>\n",
       "      <th>keywords</th>\n",
       "    </tr>\n",
       "  </thead>\n",
       "  <tbody>\n",
       "    <tr>\n",
       "      <th>5436</th>\n",
       "      <td>False</td>\n",
       "      <td>/bE1AJOGtcvjegirI5Np6sTUO0gz.jpg</td>\n",
       "      <td>[10751, 18, 35]</td>\n",
       "      <td>673271</td>\n",
       "      <td>en</td>\n",
       "      <td>13: The Musical</td>\n",
       "      <td>After moving from New York City to Indiana, a ...</td>\n",
       "      <td>0.9310</td>\n",
       "      <td>/rqShG2kTbsVbgrgjfoEwawjR88N.jpg</td>\n",
       "      <td>2022-08-12</td>\n",
       "      <td>13: The Musical</td>\n",
       "      <td>False</td>\n",
       "      <td>6.000</td>\n",
       "      <td>40</td>\n",
       "      <td>exploratory</td>\n",
       "      <td>2025-02-12</td>\n",
       "      <td>False</td>\n",
       "      <td>False</td>\n",
       "      <td>94</td>\n",
       "      <td>0</td>\n",
       "      <td>0</td>\n",
       "      <td>Released</td>\n",
       "      <td></td>\n",
       "      <td>[Familia, Drama, Comedia]</td>\n",
       "      <td>[עִבְרִית, English]</td>\n",
       "      <td>[new york city, indiana, usa, bar mitzvah, mus...</td>\n",
       "    </tr>\n",
       "    <tr>\n",
       "      <th>4822</th>\n",
       "      <td>False</td>\n",
       "      <td>/ksDlbRulTNcp3BEzr4345fS54w.jpg</td>\n",
       "      <td>[10749, 35]</td>\n",
       "      <td>1032124</td>\n",
       "      <td>en</td>\n",
       "      <td>Ask Me to Dance</td>\n",
       "      <td>Unlucky in love, Jack and Jill are destined to...</td>\n",
       "      <td>0.3882</td>\n",
       "      <td>/u04ZJa53UZNfUEnv5H6bOZpLj73.jpg</td>\n",
       "      <td>2022-10-07</td>\n",
       "      <td>Ask Me to Dance</td>\n",
       "      <td>False</td>\n",
       "      <td>5.455</td>\n",
       "      <td>11</td>\n",
       "      <td>exploratory</td>\n",
       "      <td>2025-04-08</td>\n",
       "      <td>False</td>\n",
       "      <td>False</td>\n",
       "      <td>94</td>\n",
       "      <td>0</td>\n",
       "      <td>0</td>\n",
       "      <td>Released</td>\n",
       "      <td></td>\n",
       "      <td>[Romance, Comedia]</td>\n",
       "      <td>[English]</td>\n",
       "      <td>[]</td>\n",
       "    </tr>\n",
       "    <tr>\n",
       "      <th>1332</th>\n",
       "      <td>False</td>\n",
       "      <td>/84bWZa16ALeGKcdmvKWv6Kvoohb.jpg</td>\n",
       "      <td>[80, 18]</td>\n",
       "      <td>1007127</td>\n",
       "      <td>ko</td>\n",
       "      <td>댓글부대</td>\n",
       "      <td>Journalist Sang-jin uncovers the existence of ...</td>\n",
       "      <td>0.8556</td>\n",
       "      <td>/k7pU2kmGPs6kxoPAMygMU93Rw4C.jpg</td>\n",
       "      <td>2024-03-27</td>\n",
       "      <td>Troll Factory</td>\n",
       "      <td>False</td>\n",
       "      <td>5.700</td>\n",
       "      <td>11</td>\n",
       "      <td>exploratory</td>\n",
       "      <td>2025-01-18</td>\n",
       "      <td>False</td>\n",
       "      <td>False</td>\n",
       "      <td>109</td>\n",
       "      <td>0</td>\n",
       "      <td>6676327</td>\n",
       "      <td>Released</td>\n",
       "      <td></td>\n",
       "      <td>[Crimen, Drama]</td>\n",
       "      <td>[한국어/조선말]</td>\n",
       "      <td>[journalist, based on novel or book, national ...</td>\n",
       "    </tr>\n",
       "    <tr>\n",
       "      <th>4660</th>\n",
       "      <td>False</td>\n",
       "      <td>/97bwlJw220Z5XE3xAHF6G8gA8g6.jpg</td>\n",
       "      <td>[27, 14, 28]</td>\n",
       "      <td>644124</td>\n",
       "      <td>it</td>\n",
       "      <td>Dampyr</td>\n",
       "      <td>In war-torn Balkans, bogus monster hunter Harl...</td>\n",
       "      <td>2.9222</td>\n",
       "      <td>/xdWjqmX4x0ObKIPqkr8Vptj99AZ.jpg</td>\n",
       "      <td>2022-10-28</td>\n",
       "      <td>Dampyr</td>\n",
       "      <td>False</td>\n",
       "      <td>6.167</td>\n",
       "      <td>162</td>\n",
       "      <td>exploratory</td>\n",
       "      <td>2025-05-05</td>\n",
       "      <td>False</td>\n",
       "      <td>False</td>\n",
       "      <td>109</td>\n",
       "      <td>15000000</td>\n",
       "      <td>362113</td>\n",
       "      <td>Released</td>\n",
       "      <td></td>\n",
       "      <td>[Terror, Fantasía, Acción]</td>\n",
       "      <td>[English]</td>\n",
       "      <td>[vampire, balkan war, based on comic, bonelli]</td>\n",
       "    </tr>\n",
       "    <tr>\n",
       "      <th>3175</th>\n",
       "      <td>False</td>\n",
       "      <td>/lLl80wmNwnSdVAPkxqwJwm9M2WH.jpg</td>\n",
       "      <td>[27, 18, 53]</td>\n",
       "      <td>1129932</td>\n",
       "      <td>es</td>\n",
       "      <td>Rabia</td>\n",
       "      <td>Alan and his father Alberto flee from the pain...</td>\n",
       "      <td>0.4412</td>\n",
       "      <td>/vOUqBfCtfud4ixOiftKom5ULfgj.jpg</td>\n",
       "      <td>2023-06-03</td>\n",
       "      <td>Rage</td>\n",
       "      <td>False</td>\n",
       "      <td>5.900</td>\n",
       "      <td>19</td>\n",
       "      <td>exploratory</td>\n",
       "      <td>2025-03-17</td>\n",
       "      <td>False</td>\n",
       "      <td>False</td>\n",
       "      <td>93</td>\n",
       "      <td>0</td>\n",
       "      <td>0</td>\n",
       "      <td>Released</td>\n",
       "      <td></td>\n",
       "      <td>[Terror, Drama, Suspense]</td>\n",
       "      <td>[Español]</td>\n",
       "      <td>[]</td>\n",
       "    </tr>\n",
       "  </tbody>\n",
       "</table>\n",
       "</div>"
      ],
      "text/plain": [
       "      adult                     backdrop_path        genre_ids       id  \\\n",
       "5436  False  /bE1AJOGtcvjegirI5Np6sTUO0gz.jpg  [10751, 18, 35]   673271   \n",
       "4822  False   /ksDlbRulTNcp3BEzr4345fS54w.jpg      [10749, 35]  1032124   \n",
       "1332  False  /84bWZa16ALeGKcdmvKWv6Kvoohb.jpg         [80, 18]  1007127   \n",
       "4660  False  /97bwlJw220Z5XE3xAHF6G8gA8g6.jpg     [27, 14, 28]   644124   \n",
       "3175  False  /lLl80wmNwnSdVAPkxqwJwm9M2WH.jpg     [27, 18, 53]  1129932   \n",
       "\n",
       "     original_language   original_title  \\\n",
       "5436                en  13: The Musical   \n",
       "4822                en  Ask Me to Dance   \n",
       "1332                ko             댓글부대   \n",
       "4660                it           Dampyr   \n",
       "3175                es            Rabia   \n",
       "\n",
       "                                               overview  popularity  \\\n",
       "5436  After moving from New York City to Indiana, a ...      0.9310   \n",
       "4822  Unlucky in love, Jack and Jill are destined to...      0.3882   \n",
       "1332  Journalist Sang-jin uncovers the existence of ...      0.8556   \n",
       "4660  In war-torn Balkans, bogus monster hunter Harl...      2.9222   \n",
       "3175  Alan and his father Alberto flee from the pain...      0.4412   \n",
       "\n",
       "                           poster_path release_date            title  video  \\\n",
       "5436  /rqShG2kTbsVbgrgjfoEwawjR88N.jpg   2022-08-12  13: The Musical  False   \n",
       "4822  /u04ZJa53UZNfUEnv5H6bOZpLj73.jpg   2022-10-07  Ask Me to Dance  False   \n",
       "1332  /k7pU2kmGPs6kxoPAMygMU93Rw4C.jpg   2024-03-27    Troll Factory  False   \n",
       "4660  /xdWjqmX4x0ObKIPqkr8Vptj99AZ.jpg   2022-10-28           Dampyr  False   \n",
       "3175  /vOUqBfCtfud4ixOiftKom5ULfgj.jpg   2023-06-03             Rage  False   \n",
       "\n",
       "      vote_average  vote_count       source entry_date  was_ingested  \\\n",
       "5436         6.000          40  exploratory 2025-02-12         False   \n",
       "4822         5.455          11  exploratory 2025-04-08         False   \n",
       "1332         5.700          11  exploratory 2025-01-18         False   \n",
       "4660         6.167         162  exploratory 2025-05-05         False   \n",
       "3175         5.900          19  exploratory 2025-03-17         False   \n",
       "\n",
       "      is_popular  runtime    budget  revenue    status tagline  \\\n",
       "5436       False       94         0        0  Released           \n",
       "4822       False       94         0        0  Released           \n",
       "1332       False      109         0  6676327  Released           \n",
       "4660       False      109  15000000   362113  Released           \n",
       "3175       False       93         0        0  Released           \n",
       "\n",
       "                          genres     spoken_languages  \\\n",
       "5436   [Familia, Drama, Comedia]  [עִבְרִית, English]   \n",
       "4822          [Romance, Comedia]            [English]   \n",
       "1332             [Crimen, Drama]            [한국어/조선말]   \n",
       "4660  [Terror, Fantasía, Acción]            [English]   \n",
       "3175   [Terror, Drama, Suspense]            [Español]   \n",
       "\n",
       "                                               keywords  \n",
       "5436  [new york city, indiana, usa, bar mitzvah, mus...  \n",
       "4822                                                 []  \n",
       "1332  [journalist, based on novel or book, national ...  \n",
       "4660     [vampire, balkan war, based on comic, bonelli]  \n",
       "3175                                                 []  "
      ]
     },
     "execution_count": 5,
     "metadata": {},
     "output_type": "execute_result"
    }
   ],
   "source": [
    "df_movies.sample(5)"
   ]
  },
  {
   "cell_type": "markdown",
   "metadata": {},
   "source": [
    "### Null Values"
   ]
  },
  {
   "cell_type": "code",
   "execution_count": 6,
   "metadata": {},
   "outputs": [
    {
     "name": "stdout",
     "output_type": "stream",
     "text": [
      "\n",
      "Null values in Movie Data Set:\n"
     ]
    },
    {
     "data": {
      "text/plain": [
       "backdrop_path    79\n",
       "poster_path       9\n",
       "dtype: int64"
      ]
     },
     "metadata": {},
     "output_type": "display_data"
    }
   ],
   "source": [
    "print(\"\\nNull values in Movie Data Set:\")\n",
    "null_counts = df_movies.isnull().sum()\n",
    "display(null_counts[null_counts > 0].sort_values(ascending=False))"
   ]
  },
  {
   "cell_type": "code",
   "execution_count": null,
   "metadata": {},
   "outputs": [
    {
     "name": "stdout",
     "output_type": "stream",
     "text": [
      "\n",
      "Columns with more than 30% missing values:\n"
     ]
    },
    {
     "data": {
      "text/plain": [
       "Series([], dtype: float64)"
      ]
     },
     "metadata": {},
     "output_type": "display_data"
    }
   ],
   "source": [
    "print(\"\\nColumns with more than 30% missing values:\")\n",
    "null_threshold = 30\n",
    "null_percent = df_movies.isnull().mean() * 100  # calculate & of null values\n",
    "display(null_percent[null_percent > null_threshold].sort_values(ascending=False))"
   ]
  },
  {
   "cell_type": "markdown",
   "metadata": {},
   "source": [
    "### Remove columns"
   ]
  },
  {
   "cell_type": "code",
   "execution_count": 8,
   "metadata": {},
   "outputs": [],
   "source": [
    "df_movies = df_movies.drop(\n",
    "    columns=[\"backdrop_path\", \"poster_path\", \"spoken_languages\", \"genre_ids\"]\n",
    ")"
   ]
  },
  {
   "cell_type": "code",
   "execution_count": 9,
   "metadata": {},
   "outputs": [
    {
     "name": "stdout",
     "output_type": "stream",
     "text": [
      "<class 'pandas.core.frame.DataFrame'>\n",
      "RangeIndex: 8000 entries, 0 to 7999\n",
      "Data columns (total 22 columns):\n",
      " #   Column             Non-Null Count  Dtype         \n",
      "---  ------             --------------  -----         \n",
      " 0   adult              8000 non-null   bool          \n",
      " 1   id                 8000 non-null   int64         \n",
      " 2   original_language  8000 non-null   object        \n",
      " 3   original_title     8000 non-null   object        \n",
      " 4   overview           8000 non-null   object        \n",
      " 5   popularity         8000 non-null   float64       \n",
      " 6   release_date       8000 non-null   object        \n",
      " 7   title              8000 non-null   object        \n",
      " 8   video              8000 non-null   bool          \n",
      " 9   vote_average       8000 non-null   float64       \n",
      " 10  vote_count         8000 non-null   int64         \n",
      " 11  source             8000 non-null   object        \n",
      " 12  entry_date         8000 non-null   datetime64[ns]\n",
      " 13  was_ingested       8000 non-null   bool          \n",
      " 14  is_popular         8000 non-null   bool          \n",
      " 15  runtime            8000 non-null   int64         \n",
      " 16  budget             8000 non-null   int64         \n",
      " 17  revenue            8000 non-null   int64         \n",
      " 18  status             8000 non-null   object        \n",
      " 19  tagline            8000 non-null   object        \n",
      " 20  genres             8000 non-null   object        \n",
      " 21  keywords           8000 non-null   object        \n",
      "dtypes: bool(4), datetime64[ns](1), float64(2), int64(5), object(10)\n",
      "memory usage: 1.1+ MB\n"
     ]
    }
   ],
   "source": [
    "df_movies.info()"
   ]
  },
  {
   "cell_type": "code",
   "execution_count": 10,
   "metadata": {},
   "outputs": [
    {
     "data": {
      "text/plain": [
       "(8000, 22)"
      ]
     },
     "execution_count": 10,
     "metadata": {},
     "output_type": "execute_result"
    }
   ],
   "source": [
    "df_movies.shape"
   ]
  },
  {
   "cell_type": "markdown",
   "metadata": {},
   "source": [
    "### Categorical Variables"
   ]
  },
  {
   "cell_type": "code",
   "execution_count": 11,
   "metadata": {},
   "outputs": [],
   "source": [
    "cols_categoric = [\"original_language\", \"source\", \"status\"]  # 3"
   ]
  },
  {
   "cell_type": "code",
   "execution_count": 12,
   "metadata": {},
   "outputs": [],
   "source": [
    "df_movies[cols_categoric] = df_movies[cols_categoric].astype(\"category\")"
   ]
  },
  {
   "cell_type": "markdown",
   "metadata": {},
   "source": [
    "- Ordinal: status"
   ]
  },
  {
   "cell_type": "markdown",
   "metadata": {},
   "source": [
    "- Nominal: original_language, source"
   ]
  },
  {
   "cell_type": "markdown",
   "metadata": {},
   "source": [
    "### Numerical Variables"
   ]
  },
  {
   "cell_type": "code",
   "execution_count": 13,
   "metadata": {},
   "outputs": [],
   "source": [
    "cols_numeric = [\n",
    "    \"popularity\",\n",
    "    \"vote_average\",\n",
    "    \"vote_count\",\n",
    "    \"runtime\",\n",
    "    \"budget\",\n",
    "    \"revenue\",\n",
    "]"
   ]
  },
  {
   "cell_type": "markdown",
   "metadata": {},
   "source": [
    "- Float"
   ]
  },
  {
   "cell_type": "code",
   "execution_count": 14,
   "metadata": {},
   "outputs": [],
   "source": [
    "cols_numeric_float = [\"popularity\", \"vote_average\", \"budget\", \"revenue\"]"
   ]
  },
  {
   "cell_type": "code",
   "execution_count": 15,
   "metadata": {},
   "outputs": [],
   "source": [
    "df_movies[cols_numeric_float] = df_movies[cols_numeric_float].astype(\"float\")"
   ]
  },
  {
   "cell_type": "markdown",
   "metadata": {},
   "source": [
    "- Int"
   ]
  },
  {
   "cell_type": "code",
   "execution_count": 16,
   "metadata": {},
   "outputs": [],
   "source": [
    "cols_numeric_int = [\"vote_count\", \"runtime\"]"
   ]
  },
  {
   "cell_type": "code",
   "execution_count": 17,
   "metadata": {},
   "outputs": [],
   "source": [
    "df_movies[cols_numeric_int] = df_movies[cols_numeric_int].astype(\"int8\")"
   ]
  },
  {
   "cell_type": "markdown",
   "metadata": {},
   "source": [
    "### Boolean Variables"
   ]
  },
  {
   "cell_type": "code",
   "execution_count": 18,
   "metadata": {},
   "outputs": [],
   "source": [
    "cols_boolean = [\"adult\", \"video\", \"was_ingested\", \"is_popular\"]"
   ]
  },
  {
   "cell_type": "code",
   "execution_count": 19,
   "metadata": {},
   "outputs": [],
   "source": [
    "df_movies[cols_boolean] = df_movies[cols_boolean].astype(\"bool\")"
   ]
  },
  {
   "cell_type": "markdown",
   "metadata": {},
   "source": [
    "### String Variables"
   ]
  },
  {
   "cell_type": "code",
   "execution_count": 20,
   "metadata": {},
   "outputs": [],
   "source": [
    "cols_string = [\n",
    "    \"id\",\n",
    "    \"original_title\",\n",
    "    \"overview\",\n",
    "    \"title\",\n",
    "    \"tagline\",\n",
    "    \"genres\",\n",
    "    \"keywords\",\n",
    "]"
   ]
  },
  {
   "cell_type": "code",
   "execution_count": 21,
   "metadata": {},
   "outputs": [],
   "source": [
    "df_movies[cols_string] = df_movies[cols_string].astype(\"string\")"
   ]
  },
  {
   "cell_type": "markdown",
   "metadata": {},
   "source": [
    "### Date Variables"
   ]
  },
  {
   "cell_type": "code",
   "execution_count": 22,
   "metadata": {},
   "outputs": [],
   "source": [
    "col_date = [\"release_date\", \"entry_date\"]"
   ]
  },
  {
   "cell_type": "code",
   "execution_count": 23,
   "metadata": {},
   "outputs": [],
   "source": [
    "df_movies[col_date] = df_movies[col_date].astype(\"datetime64[ns]\")"
   ]
  },
  {
   "cell_type": "markdown",
   "metadata": {},
   "source": [
    "### Schema"
   ]
  },
  {
   "cell_type": "code",
   "execution_count": 24,
   "metadata": {},
   "outputs": [
    {
     "name": "stdout",
     "output_type": "stream",
     "text": [
      "<class 'pandas.core.frame.DataFrame'>\n",
      "RangeIndex: 8000 entries, 0 to 7999\n",
      "Data columns (total 22 columns):\n",
      " #   Column             Non-Null Count  Dtype         \n",
      "---  ------             --------------  -----         \n",
      " 0   adult              8000 non-null   bool          \n",
      " 1   id                 8000 non-null   string        \n",
      " 2   original_language  8000 non-null   category      \n",
      " 3   original_title     8000 non-null   string        \n",
      " 4   overview           8000 non-null   string        \n",
      " 5   popularity         8000 non-null   float64       \n",
      " 6   release_date       8000 non-null   datetime64[ns]\n",
      " 7   title              8000 non-null   string        \n",
      " 8   video              8000 non-null   bool          \n",
      " 9   vote_average       8000 non-null   float64       \n",
      " 10  vote_count         8000 non-null   int8          \n",
      " 11  source             8000 non-null   category      \n",
      " 12  entry_date         8000 non-null   datetime64[ns]\n",
      " 13  was_ingested       8000 non-null   bool          \n",
      " 14  is_popular         8000 non-null   bool          \n",
      " 15  runtime            8000 non-null   int8          \n",
      " 16  budget             8000 non-null   float64       \n",
      " 17  revenue            8000 non-null   float64       \n",
      " 18  status             8000 non-null   category      \n",
      " 19  tagline            8000 non-null   string        \n",
      " 20  genres             8000 non-null   string        \n",
      " 21  keywords           8000 non-null   string        \n",
      "dtypes: bool(4), category(3), datetime64[ns](2), float64(4), int8(2), string(7)\n",
      "memory usage: 885.8 KB\n"
     ]
    }
   ],
   "source": [
    "df_movies.info()"
   ]
  },
  {
   "cell_type": "code",
   "execution_count": 25,
   "metadata": {},
   "outputs": [],
   "source": [
    "import pyarrow as pa\n",
    "\n",
    "schema = pa.Table.from_pandas(df_movies).schema"
   ]
  },
  {
   "cell_type": "code",
   "execution_count": 26,
   "metadata": {},
   "outputs": [
    {
     "data": {
      "text/plain": [
       "adult: bool\n",
       "id: string\n",
       "original_language: dictionary<values=string, indices=int8, ordered=0>\n",
       "original_title: string\n",
       "overview: string\n",
       "popularity: double\n",
       "release_date: timestamp[ns]\n",
       "title: string\n",
       "video: bool\n",
       "vote_average: double\n",
       "vote_count: int8\n",
       "source: dictionary<values=string, indices=int8, ordered=0>\n",
       "entry_date: timestamp[ns]\n",
       "was_ingested: bool\n",
       "is_popular: bool\n",
       "runtime: int8\n",
       "budget: double\n",
       "revenue: double\n",
       "status: dictionary<values=string, indices=int8, ordered=0>\n",
       "tagline: string\n",
       "genres: string\n",
       "keywords: string\n",
       "-- schema metadata --\n",
       "pandas: '{\"index_columns\": [{\"kind\": \"range\", \"name\": null, \"start\": 0, \"' + 2936"
      ]
     },
     "execution_count": 26,
     "metadata": {},
     "output_type": "execute_result"
    }
   ],
   "source": [
    "schema"
   ]
  },
  {
   "cell_type": "code",
   "execution_count": 27,
   "metadata": {},
   "outputs": [],
   "source": [
    "df_movies.to_parquet(\n",
    "    DATA_DIR / \"data/02_intermediate/movies_dataset_fixed.parquet\",\n",
    "    index=False,\n",
    "    schema=schema,\n",
    ")"
   ]
  }
 ],
 "metadata": {
  "kernelspec": {
   "display_name": "Python 3.11 (ml-movie-recommender)",
   "language": "python",
   "name": "ml-movie-recommender"
  },
  "language_info": {
   "codemirror_mode": {
    "name": "ipython",
    "version": 3
   },
   "file_extension": ".py",
   "mimetype": "text/x-python",
   "name": "python",
   "nbconvert_exporter": "python",
   "pygments_lexer": "ipython3",
   "version": "3.11.12"
  }
 },
 "nbformat": 4,
 "nbformat_minor": 4
}
